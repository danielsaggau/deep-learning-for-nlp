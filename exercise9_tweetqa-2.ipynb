{
  "nbformat": 4,
  "nbformat_minor": 0,
  "metadata": {
    "colab": {
      "name": "exercise9_tweetqa.ipynb",
      "provenance": [],
      "collapsed_sections": []
    },
    "kernelspec": {
      "name": "python3",
      "display_name": "Python 3"
    }
  },
  "cells": [
    {
      "cell_type": "markdown",
      "metadata": {
        "id": "PD6I_7U41s0J"
      },
      "source": [
        "# Exercise Sheet 9: Domain Adaptation on TweetQA using T5\r\n",
        "\r\n",
        "In this exercise, you will evaluate T5 on question answering in the twitter domain, and then finetune the model.\r\n",
        "\r\n",
        "You should complete the parts of the exercise that are marked as **TODO**.\r\n",
        "A correctly completed **TODO** gives 2 bonus points. Partially correct answers give 1 bonus point.\r\n",
        "Some **TODO**s are inside a comment in a code block: Here, you should complete the line of code.\r\n",
        "Other **TODO**s are inside a text block: Here, you should write a few sentences to answer the question.\r\n",
        "\r\n",
        "**Important:** Some students were under the impression that you have to complete a TODO in a _single_ line of code. That is not the case, you can use as many lines as you need.\r\n",
        "\r\n",
        "**Submission deadline:** 03.02.2021, 23:59 Central European Time\r\n",
        "\r\n",
        "**Instructions for submission:** After completing the exercise, save a copy of the notebook as exercise9_tweetqa_MATRIKELNUMMER.ipynb, where MATRIKELNUMMER is your student ID number. Then upload the notebook to moodle (submission exercise sheet 9).\r\n",
        "\r\n",
        "In order to understand the code, it can be helpful to experiment a bit during development, e.g., to print tensors or their shapes. But please remove these changes before submitting the notebook. If we cannot run your notebook, or if a print statement is congesting stdout too much, then we cannot grade it. \r\n",
        "\r\n",
        "To make the most of this exercise, you should try to read and understand the entire code, not just the parts that contain a **TODO**. If you have questions, write them down for the exercise, which will happen in the week after the submission deadline.\r\n",
        "\r\n",
        "**CUDA:** You can use a GPU for this exercise (on colab: Runtime -> Change Runtime Type -> GPU). This is not mandatory, but it will speed up training epochs, thereby allowing you to test more hyperparameters."
      ]
    },
    {
      "cell_type": "markdown",
      "metadata": {
        "id": "XMPNVCmemFNo"
      },
      "source": [
        "# Libraries and Hyperparameters"
      ]
    },
    {
      "cell_type": "code",
      "metadata": {
        "id": "Si054iqL1rqP"
      },
      "source": [
        "!pip install -q transformers==4.2.0\r\n",
        "!pip install -q datasets==1.2.0"
      ],
      "execution_count": null,
      "outputs": []
    },
    {
      "cell_type": "code",
      "metadata": {
        "id": "gyhDLbn8PL1A"
      },
      "source": [
        "from transformers import T5ForConditionalGeneration, T5TokenizerFast, Seq2SeqTrainer, Seq2SeqTrainingArguments\n",
        "from datasets import load_dataset, load_metric\n",
        "import numpy as np\n",
        "import torch"
      ],
      "execution_count": null,
      "outputs": []
    },
    {
      "cell_type": "code",
      "metadata": {
        "id": "g_U1tW1iVrv0"
      },
      "source": [
        "NUM_EPOCHS = 3 if torch.cuda.is_available() else 1\r\n",
        "PERCENTILES = (95, 100) if torch.cuda.is_available() else (80, 100)\r\n",
        "\r\n",
        "TRAIN_BATCH_SIZE = 16\r\n",
        "EVAL_BATCH_SIZE = 64\r\n",
        "WARMUP_STEPS = 200\r\n",
        "WEIGHT_DECAY = 0.01\r\n",
        "LOGGING_STEPS = 100\r\n",
        "LEARNING_RATE = 5e-05"
      ],
      "execution_count": null,
      "outputs": []
    },
    {
      "cell_type": "code",
      "metadata": {
        "id": "614DnldV5JnO"
      },
      "source": [
        "torch.manual_seed(0)\r\n",
        "if torch.cuda.is_available():\r\n",
        "  torch.cuda.manual_seed(0)"
      ],
      "execution_count": null,
      "outputs": []
    },
    {
      "cell_type": "markdown",
      "metadata": {
        "id": "IuvFvP98mKA-"
      },
      "source": [
        "#Data preprocessing\r\n",
        "\r\n",
        "In this exercise, we will load the [tweet_qa dataset](https://huggingface.co/datasets/tweet_qa), which is a closed question answering dataset. Each data sample consists of a question, a tweet as context which contains the necessary information, and the correct answer. Luckily for us, T5 has already been trained on SQUAD, which is a similar task, but with the context consisting of snippets from Wikipedia articles. This means that we just need to bring our dataset into the right format, and then we can already take a look at how well T5 performs on it. After that, we will finetune on tweet_qa to improve performance (domain adaptation)."
      ]
    },
    {
      "cell_type": "code",
      "metadata": {
        "id": "xciWSN_H5hJd"
      },
      "source": [
        "tokenizer = T5TokenizerFast.from_pretrained('t5-small')"
      ],
      "execution_count": null,
      "outputs": []
    },
    {
      "cell_type": "markdown",
      "metadata": {
        "id": "k4nyW4c8ryic"
      },
      "source": [
        "Here, we are going to bring our dataset into the right format, tokenize it, and truncate the inputs using the same method as in the last exercise. Hint: to find out what format T5 expects questions and answers in, take a look at the [T5 paper](https://arxiv.org/pdf/1910.10683.pdf), specifically Appendix D.15. "
      ]
    },
    {
      "cell_type": "code",
      "metadata": {
        "id": "BRd0lKNwAf18"
      },
      "source": [
        "def reformat_for_t5(example):\r\n",
        "  inputs = \r\n",
        "  \r\n",
        "  # TODO: bring the question and context into the format that T5 is used to from SQUAD, for each example. You should also lowercase the inputs.\r\n",
        "  example['src_texts'] = to_lower_case(inputs)\r\n",
        "  return example\r\n",
        "\r\n",
        "def get_max_length(tokenizer, train_dataset, column, percentile):\r\n",
        "  def get_lengths(batch):\r\n",
        "    return tokenizer(batch, padding=False, return_length=True)\r\n",
        "\r\n",
        "  lengths = train_dataset.map(get_lengths, input_columns=column, batched=True)['length']\r\n",
        "  return int(np.percentile(lengths, percentile)) +1\r\n",
        "\r\n",
        "ANSWER_SEP = ':::::'\r\n",
        "dataset = load_dataset('tweet_qa')\r\n",
        "dataset = dataset.map(reformat_for_t5)\r\n",
        "dataset = dataset.map(lambda x: {'tgt_texts': ANSWER_SEP.join(x['Answer'])}) \r\n",
        "#note: this is a hack: The Seq2SeqTrainer we will use later does not allow us to pass multiple labels to it. However, our dataset contains multiple correct answers for each question in the validation part. Therefore we concatenate them here so we can later split them in compute_metrics. Don't worry about this too much.\r\n",
        "\r\n",
        "max_length = get_max_length(tokenizer, dataset['train'], 'src_texts', PERCENTILES[0])\r\n",
        "max_target_length = get_max_length(tokenizer, dataset['train'], 'tgt_texts', PERCENTILES[1])\r\n",
        "\r\n",
        "def tokenize(batch):\r\n",
        "  prepare_seq2seq_batch(batch)\r\n",
        "  # TODO: call the prepare_seq2seq_batch function of the T5Tokenizer. Be careful to set padding to 'max_length'\r\n",
        "  return None\r\n",
        "\r\n",
        "dataset = dataset.map(tokenize, batched=True)\r\n",
        "dataset.set_format('torch', columns=['input_ids', 'labels', 'attention_mask'])"
      ],
      "execution_count": null,
      "outputs": []
    },
    {
      "cell_type": "markdown",
      "metadata": {
        "id": "byuQqZNnmYNN"
      },
      "source": [
        "# Defining Metrics\r\n",
        "\r\n",
        "We are going to evaluate with the same metrics used by SQUAD, Exact Match and Bag-of-Words F1. They're already available in 🤗 datasets, but we need to get our predictions and answers into shape first."
      ]
    },
    {
      "cell_type": "code",
      "metadata": {
        "id": "AeUWhVvOCyYr"
      },
      "source": [
        "def squad_metrics(eval_prediction):\n",
        "  #batch_decode(predictions,label_ids)\n",
        "  # TODO: use the batch_decode function of the tokenizer to decode the predictions and the label_ids (hint: they're both in the only argument of this function). Remember to set skip_special_tokens so that we don't generate padding tokens.\n",
        "  predictions = None\n",
        "  answers = None\n",
        "  \n",
        "  answers = [answer.split(ANSWER_SEP) for answer in answers]\n",
        "  assert all([len(ans) == 2 for ans in answers])\n",
        "  \n",
        "  predictions = [{'id': str(i), 'prediction_text': pred.strip().lower()} \\\n",
        "                 for i, pred in enumerate(predictions)]\n",
        "  references = [{'id': str(i), 'answers': {'text': ans, 'answer_start': []}} \\\n",
        "                for i, ans in enumerate(answers)]\n",
        "\n",
        "  #TODO: load the metric \"squad\" using the function we've imported at the top of the notebook. \n",
        "  metric = squad_metrics()\n",
        "  #TODO: use the add_batch method to pass our predictions and references to the metric\n",
        "  #TODO: compute the metric\n",
        "  return None"
      ],
      "execution_count": null,
      "outputs": []
    },
    {
      "cell_type": "markdown",
      "metadata": {
        "id": "_YBiuXlFmeBg"
      },
      "source": [
        "# Training"
      ]
    },
    {
      "cell_type": "code",
      "metadata": {
        "id": "rc2Z_0iC92-q"
      },
      "source": [
        "model = T5ForConditionalGeneration.from_pretrained(\"t5-small\")"
      ],
      "execution_count": null,
      "outputs": []
    },
    {
      "cell_type": "code",
      "metadata": {
        "id": "GrMY-paFgzLk"
      },
      "source": [
        "training_args = Seq2SeqTrainingArguments(\r\n",
        "    output_dir='./results',\r\n",
        "    num_train_epochs=NUM_EPOCHS,\r\n",
        "    per_device_train_batch_size=TRAIN_BATCH_SIZE,\r\n",
        "    per_device_eval_batch_size=EVAL_BATCH_SIZE,\r\n",
        "    warmup_steps=WARMUP_STEPS,\r\n",
        "    weight_decay=WEIGHT_DECAY,\r\n",
        "    logging_dir='./logs/',\r\n",
        "    evaluation_strategy=\"steps\",\r\n",
        "    logging_steps=LOGGING_STEPS,\r\n",
        "    learning_rate=LEARNING_RATE,\r\n",
        "    predict_with_generate=True,\r\n",
        ")\r\n",
        "\r\n",
        "#TODO: instantiate the Seq2SeqTrainer. Remember to pass all the objects we've constructed so far that we can use here.\r\n",
        "\r\n",
        "trainer = Seq2SeqTrainer(training_args)"
      ],
      "execution_count": null,
      "outputs": []
    },
    {
      "cell_type": "markdown",
      "metadata": {
        "id": "mGRTeSqt5LM1"
      },
      "source": [
        "# Evaluation before Domain Adaptation\r\n",
        "\r\n",
        "First, let's test how T5 performs on tweet_qa without domain adaptation. It should work fairly well, given that it's been trained on SQUAD, which is a very similar task, just on a different domain. For evaluation, we'll perform beam search during generation with a beam size of 2."
      ]
    },
    {
      "cell_type": "code",
      "metadata": {
        "id": "5cwsbNzSloo5"
      },
      "source": [
        "print(trainer.evaluate(num_beams=2))"
      ],
      "execution_count": null,
      "outputs": []
    },
    {
      "cell_type": "markdown",
      "metadata": {
        "id": "hkVOFsS86fFv"
      },
      "source": [
        "# Domain Adaptation\r\n",
        "\r\n",
        "Now let's see how much we can improve our performance by finetuning on our in-domain data:"
      ]
    },
    {
      "cell_type": "code",
      "metadata": {
        "id": "wOPyoaJ66fjH"
      },
      "source": [
        "trainer.train()"
      ],
      "execution_count": null,
      "outputs": []
    },
    {
      "cell_type": "code",
      "metadata": {
        "id": "rGnAvAZDUWYF"
      },
      "source": [
        "print(trainer.evaluate())\n",
        "print(trainer.evaluate(num_beams=2))"
      ],
      "execution_count": null,
      "outputs": []
    },
    {
      "cell_type": "markdown",
      "metadata": {
        "id": "wv_0Tztp6pve"
      },
      "source": [
        "# Report\r\n",
        "\r\n",
        "**TODO:** Write a brief report of your results. Include the hyperparameters that you used, the results T5 achieved on the dataset before and after domain adaptation, and why the evaluation during training may have returned different results than the separate evaluations before and after training. Also report on the different evaluation speeds resulting from this, and give a brief explanation why finetuning on in-domain data was helpful for performance."
      ]
    },
    {
      "cell_type": "code",
      "metadata": {
        "id": "FzPfz0LP6roG"
      },
      "source": [
        "Hyperparameters before adoptation = \n",
        "Hyperparameters after adoptation = \n",
        "evaluation interpretation =\n",
        "evaluation speed = \n",
        "finetuning =\n",
        "\n"
      ],
      "execution_count": null,
      "outputs": []
    }
  ]
}